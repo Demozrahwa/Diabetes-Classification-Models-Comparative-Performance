{
 "cells": [
  {
   "cell_type": "code",
   "execution_count": 3,
   "id": "47db4186",
   "metadata": {},
   "outputs": [],
   "source": [
    "import pandas as pd\n",
    "import seaborn as sns\n",
    "import matplotlib.pyplot as plt\n",
    "\n",
    "def visualize_data(data_frame: pd.DataFrame):\n",
    "    \"\"\"\n",
    "    Visualizes the data using a PairGrid plot with scatterplots.\n",
    "    \n",
    "    Parameters:\n",
    "    - data_frame : pandas DataFrame\n",
    "        The input dataset to be visualized.\n",
    "    \n",
    "    Returns:\n",
    "    - g : seaborn PairGrid\n",
    "        The PairGrid object containing the scatterplots.\n",
    "    \"\"\"\n",
    "    # Create a PairGrid plot with scatterplots\n",
    "    g = sns.PairGrid(data_frame)\n",
    "    g.map(sns.scatterplot)\n",
    "    \n",
    "    plt.show()\n",
    "    \n",
    "    return g\n"
   ]
  },
  {
   "cell_type": "code",
   "execution_count": null,
   "id": "24cfa8f9",
   "metadata": {},
   "outputs": [],
   "source": []
  }
 ],
 "metadata": {
  "kernelspec": {
   "display_name": "Python 3 (ipykernel)",
   "language": "python",
   "name": "python3"
  },
  "language_info": {
   "codemirror_mode": {
    "name": "ipython",
    "version": 3
   },
   "file_extension": ".py",
   "mimetype": "text/x-python",
   "name": "python",
   "nbconvert_exporter": "python",
   "pygments_lexer": "ipython3",
   "version": "3.9.13"
  }
 },
 "nbformat": 4,
 "nbformat_minor": 5
}
