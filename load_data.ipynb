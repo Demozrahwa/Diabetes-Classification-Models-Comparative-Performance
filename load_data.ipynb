{
 "cells": [
  {
   "cell_type": "code",
   "execution_count": 94,
   "id": "91ddedcd",
   "metadata": {},
   "outputs": [],
   "source": [
    "import pandas as pd\n",
    "\n",
    "def load_data(input_file: str):\n",
    "    \"\"\"\n",
    "    Loads a dataset from a CSV file into a pandas DataFrame.\n",
    "    \n",
    "    Parameters:\n",
    "    - input_file : str\n",
    "        The path to the input CSV file.\n",
    "    \n",
    "    Returns:\n",
    "    - df : pandas DataFrame\n",
    "        The loaded dataset as a pandas DataFrame.\n",
    "    \"\"\"\n",
    "    # Read the CSV file into a DataFrame\n",
    "    df = pd.read_csv(input_file)\n",
    "    \n",
    "    return df\n"
   ]
  }
 ],
 "metadata": {
  "kernelspec": {
   "display_name": "Python 3 (ipykernel)",
   "language": "python",
   "name": "python3"
  },
  "language_info": {
   "codemirror_mode": {
    "name": "ipython",
    "version": 3
   },
   "file_extension": ".py",
   "mimetype": "text/x-python",
   "name": "python",
   "nbconvert_exporter": "python",
   "pygments_lexer": "ipython3",
   "version": "3.9.13"
  }
 },
 "nbformat": 4,
 "nbformat_minor": 5
}
